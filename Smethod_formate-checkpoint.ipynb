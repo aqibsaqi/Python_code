{
 "cells": [
  {
   "cell_type": "code",
   "execution_count": 6,
   "id": "831ebc29",
   "metadata": {},
   "outputs": [],
   "source": [
    "message=\"i am going to gowa {} for visiting {} becasue this is my dream place\""
   ]
  },
  {
   "cell_type": "code",
   "execution_count": 7,
   "id": "473e00fe",
   "metadata": {},
   "outputs": [
    {
     "data": {
      "text/plain": [
       "'i am going to gowa ali for visiting 1234 becasue this is my dream place'"
      ]
     },
     "execution_count": 7,
     "metadata": {},
     "output_type": "execute_result"
    }
   ],
   "source": [
    "message.format(\"ali\",1234)"
   ]
  },
  {
   "cell_type": "code",
   "execution_count": 11,
   "id": "223ef05d",
   "metadata": {},
   "outputs": [],
   "source": [
    "message=\"i am going to gowa {1} for visiting {0} becasue this is my dream place\" #1:1234,0:saqi\n"
   ]
  },
  {
   "cell_type": "code",
   "execution_count": 12,
   "id": "1476e74c",
   "metadata": {},
   "outputs": [
    {
     "data": {
      "text/plain": [
       "'i am going to gowa 1234 for visiting saqi becasue this is my dream place'"
      ]
     },
     "execution_count": 12,
     "metadata": {},
     "output_type": "execute_result"
    }
   ],
   "source": [
    "message.format(\"saqi\",1234)"
   ]
  },
  {
   "cell_type": "code",
   "execution_count": 13,
   "id": "9bbe7d3d",
   "metadata": {},
   "outputs": [
    {
     "data": {
      "text/plain": [
       "'i am going to gowa saqi for visiting 1234 becasue this is my dream place'"
      ]
     },
     "execution_count": 13,
     "metadata": {},
     "output_type": "execute_result"
    }
   ],
   "source": [
    "message=\"i am going to gowa {name} for visiting {number} becasue this is my dream place\"\n",
    "message.format(name=\"saqi\",number=1234)"
   ]
  },
  {
   "cell_type": "code",
   "execution_count": 14,
   "id": "e7aaf298",
   "metadata": {},
   "outputs": [
    {
     "data": {
      "text/plain": [
       "'i am going to gowa       saqi for visiting    1234    becasue this is my dream place'"
      ]
     },
     "execution_count": 14,
     "metadata": {},
     "output_type": "execute_result"
    }
   ],
   "source": [
    "#space\n",
    "message=\"i am going to gowa {name:>10} for visiting {number:^10} becasue this is my dream place\" #:> get space 10 char and :^ give space left&right set value center\n",
    "message.format(name=\"saqi\",number=1234)"
   ]
  },
  {
   "cell_type": "code",
   "execution_count": null,
   "id": "92f77d19",
   "metadata": {},
   "outputs": [],
   "source": []
  }
 ],
 "metadata": {
  "kernelspec": {
   "display_name": "Python 3 (ipykernel)",
   "language": "python",
   "name": "python3"
  },
  "language_info": {
   "codemirror_mode": {
    "name": "ipython",
    "version": 3
   },
   "file_extension": ".py",
   "mimetype": "text/x-python",
   "name": "python",
   "nbconvert_exporter": "python",
   "pygments_lexer": "ipython3",
   "version": "3.11.7"
  }
 },
 "nbformat": 4,
 "nbformat_minor": 5
}
