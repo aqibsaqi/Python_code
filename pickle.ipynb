{
 "cells": [
  {
   "cell_type": "code",
   "execution_count": 1,
   "id": "5540c652",
   "metadata": {},
   "outputs": [],
   "source": [
    "import pickle"
   ]
  },
  {
   "cell_type": "code",
   "execution_count": 5,
   "id": "df68a9fe",
   "metadata": {},
   "outputs": [],
   "source": [
    "lst=[\"saqi\", \"ali\",\"kacho\"]\n",
    "with open(\"pickle.txt\",\"wb\") as file:\n",
    "    pickle.dump(lst,file)"
   ]
  },
  {
   "cell_type": "code",
   "execution_count": 6,
   "id": "a428f660",
   "metadata": {},
   "outputs": [
    {
     "name": "stdout",
     "output_type": "stream",
     "text": [
      "<_io.BufferedWriter name='pickle.txt'>\n"
     ]
    }
   ],
   "source": [
    "print(file)"
   ]
  },
  {
   "cell_type": "code",
   "execution_count": 7,
   "id": "07059adb",
   "metadata": {},
   "outputs": [
    {
     "name": "stdout",
     "output_type": "stream",
     "text": [
      "['saqi', 'ali', 'kacho']\n"
     ]
    }
   ],
   "source": [
    "with open(\"pickle.txt\",\"rb\") as file:\n",
    "    loaded_data = pickle.load(file)\n",
    "    print(loaded_data)"
   ]
  },
  {
   "cell_type": "code",
   "execution_count": null,
   "id": "7b92e166",
   "metadata": {},
   "outputs": [],
   "source": []
  }
 ],
 "metadata": {
  "kernelspec": {
   "display_name": "Python 3 (ipykernel)",
   "language": "python",
   "name": "python3"
  },
  "language_info": {
   "codemirror_mode": {
    "name": "ipython",
    "version": 3
   },
   "file_extension": ".py",
   "mimetype": "text/x-python",
   "name": "python",
   "nbconvert_exporter": "python",
   "pygments_lexer": "ipython3",
   "version": "3.11.7"
  }
 },
 "nbformat": 4,
 "nbformat_minor": 5
}
