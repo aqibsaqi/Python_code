{
 "cells": [
  {
   "cell_type": "code",
   "execution_count": 49,
   "id": "68ef58ce",
   "metadata": {},
   "outputs": [
    {
     "name": "stdout",
     "output_type": "stream",
     "text": [
      "aqib hussain my name is aqib hussain,I belong to GilgiltBaltisan and I am Computer Science student \n"
     ]
    }
   ],
   "source": [
    "'''\n",
    "String :\n",
    "rep:('',\"\",''' ''')\n",
    "immutable\n",
    "'''\n",
    "name='aqib'\n",
    "s_name=\"hussain\"\n",
    "my_intro='''my name is aqib hussain,I belong to GilgiltBaltisan and I am Computer Science student '''\n",
    "print(name,s_name,my_intro)"
   ]
  },
  {
   "cell_type": "code",
   "execution_count": 50,
   "id": "d10f7251",
   "metadata": {},
   "outputs": [
    {
     "name": "stdout",
     "output_type": "stream",
     "text": [
      "a\n"
     ]
    }
   ],
   "source": [
    "#access by index\n",
    "print(name[0])"
   ]
  },
  {
   "cell_type": "code",
   "execution_count": 51,
   "id": "600060ea",
   "metadata": {},
   "outputs": [
    {
     "name": "stdout",
     "output_type": "stream",
     "text": [
      "qib hussain,I belong to GilgiltBaltisan a\n",
      "ynm sai usi, eogt iglBlia n  mCmue cec tdn \n",
      "ya  ihsn lgoiiBtaa a\n"
     ]
    }
   ],
   "source": [
    "'''\n",
    "scilicing syntax\n",
    "start,stop,step\n",
    "by defualt \n",
    "start-0 \n",
    "stop -end\n",
    "step - 1\n",
    "use for complex string specific point access\n",
    "'''\n",
    "print(my_intro[12:53])\n",
    "print(my_intro[1: :2])\n",
    "print(my_intro[1:60 :3])"
   ]
  },
  {
   "cell_type": "code",
   "execution_count": 52,
   "id": "c051a889",
   "metadata": {},
   "outputs": [
    {
     "name": "stdout",
     "output_type": "stream",
     "text": [
      "aqibhussain\n",
      "aqibhussain\n",
      "AQIBHUSSAIN\n",
      "Aqibhussain\n",
      "My Name Is Aqib Hussain,I Belong To Gilgiltbaltisan And I Am Computer Science Student \n"
     ]
    }
   ],
   "source": [
    "# concatenate()\n",
    "Full_name=name+s_name\n",
    "print(Full_name)\n",
    "full_name=Full_name.lower()\n",
    "print(full_name)\n",
    "Full_name=Full_name.upper()\n",
    "print(Full_name)\n",
    "Full_name=Full_name.title()\n",
    "print(Full_name)\n",
    "print(my_intro.title())"
   ]
  },
  {
   "cell_type": "code",
   "execution_count": 53,
   "id": "55722e4f",
   "metadata": {},
   "outputs": [
    {
     "name": "stdout",
     "output_type": "stream",
     "text": [
      "not found\n"
     ]
    }
   ],
   "source": [
    "if \"saqi\" in my_intro:\n",
    "    print(\"yes\")\n",
    "else:\n",
    "    print(\"not found\")"
   ]
  },
  {
   "cell_type": "code",
   "execution_count": 54,
   "id": "5eec2d1e",
   "metadata": {},
   "outputs": [
    {
     "name": "stdout",
     "output_type": "stream",
     "text": [
      "[1, 3, 5, 'saqi', True, 3.14]\n"
     ]
    }
   ],
   "source": [
    "''' \n",
    "List :\n",
    "use for diff type if datatype in list\n",
    "rep -[]\n",
    "mutable\n",
    "Dynamic\n",
    "ordered'''\n",
    "lst_1=[1,3,5,\"saqi\",True,3.14]\n",
    "print(lst_1)"
   ]
  },
  {
   "cell_type": "code",
   "execution_count": 55,
   "id": "a274c379",
   "metadata": {},
   "outputs": [
    {
     "name": "stdout",
     "output_type": "stream",
     "text": [
      "[1, 3, 5, 'Ali', True, 3.14]\n"
     ]
    }
   ],
   "source": [
    "#add \n",
    "lst_1[3]=\"Ali\"\n",
    "print(lst_1)"
   ]
  },
  {
   "cell_type": "code",
   "execution_count": 56,
   "id": "1497c473",
   "metadata": {},
   "outputs": [
    {
     "name": "stdout",
     "output_type": "stream",
     "text": [
      "3\n"
     ]
    }
   ],
   "source": [
    "#finde index number\n",
    "print(lst_1.index(\"Ali\"))"
   ]
  },
  {
   "cell_type": "code",
   "execution_count": 57,
   "id": "6a7abcbc",
   "metadata": {},
   "outputs": [
    {
     "name": "stdout",
     "output_type": "stream",
     "text": [
      "[1, 3, 5, 'Ali', 'mohammad', 3.14]\n"
     ]
    }
   ],
   "source": [
    "#update\n",
    "lst_1[4]=\"mohammad\"\n",
    "print(lst_1)"
   ]
  },
  {
   "cell_type": "code",
   "execution_count": 58,
   "id": "33ab1c53",
   "metadata": {},
   "outputs": [
    {
     "name": "stdout",
     "output_type": "stream",
     "text": [
      "[1, 3, 5, 7, 9, 3.14]\n"
     ]
    }
   ],
   "source": [
    "#multi value add \n",
    "lst_1[3:5]=7,9\n",
    "print(lst_1)"
   ]
  },
  {
   "cell_type": "code",
   "execution_count": 62,
   "id": "4200aed1",
   "metadata": {},
   "outputs": [
    {
     "name": "stdout",
     "output_type": "stream",
     "text": [
      "[1, 3, 5, 9, 3.14, 2, 4, 6, 8, 10]\n",
      "[1, 3, 5, 9, 3.14, 2, 4, 6, 8, 10]\n"
     ]
    }
   ],
   "source": [
    "lst_2=[2,4,6,8,10]\n",
    "#concatenate\n",
    "lst_3=lst_1+lst_2\n",
    "print(lst_3)\n",
    "#extend list\n",
    "lst_1.extend(lst_2)\n",
    "print(lst_1)"
   ]
  },
  {
   "cell_type": "code",
   "execution_count": 60,
   "id": "4c07bb40",
   "metadata": {},
   "outputs": [
    {
     "name": "stdout",
     "output_type": "stream",
     "text": [
      "[1, 3, 5, 9, 3.14]\n"
     ]
    }
   ],
   "source": [
    "lst_1.pop(3)\n",
    "print(lst_1)# del 7"
   ]
  },
  {
   "cell_type": "code",
   "execution_count": 61,
   "id": "bd79b036",
   "metadata": {},
   "outputs": [
    {
     "name": "stdout",
     "output_type": "stream",
     "text": [
      "not found\n"
     ]
    }
   ],
   "source": [
    "#check \n",
    "check=7\n",
    "if check in lst_1:\n",
    "    print(check)\n",
    "else:\n",
    "    print(\"not found\")\n"
   ]
  },
  {
   "cell_type": "code",
   "execution_count": 71,
   "id": "6c2dbdaf",
   "metadata": {},
   "outputs": [
    {
     "name": "stdout",
     "output_type": "stream",
     "text": [
      "[1, 9, 25, 81, 9.8596, 4, 16, 36, 64, 100]\n"
     ]
    }
   ],
   "source": [
    "#comprehension\n",
    "Square=[sq**2 for sq in lst_1]\n",
    "print(Square)"
   ]
  },
  {
   "cell_type": "code",
   "execution_count": 18,
   "id": "57cfa8ac",
   "metadata": {},
   "outputs": [
    {
     "name": "stdout",
     "output_type": "stream",
     "text": [
      "['what is the boiling point of water ?']\n",
      "a) 75, b)  90  ,c) 100 ,d) 101\n",
      "enter u choicec\n",
      "correct\n",
      "['What is blockchain technology?']\n",
      "a)  A decentralized database, b)  A centralized ledger system  ,c)  A cloud storage service ,d)  A type of machine learning model\n",
      "enter u choicea\n",
      "wrong\n"
     ]
    }
   ],
   "source": [
    "#nested list\n",
    "qa_list=[[\"what is the boiling point of water ?\"],[\"What is blockchain technology?\"]]\n",
    "option=[[\"75\",\" 90\",\"100\",\"101\",\"c\"],[\" A decentralized database\",\" A centralized ledger system\",\" A cloud storage service\",\" A type of machine learning model\",\"d\"]]       \n",
    "level=[1,2,3,4]\n",
    "amount=[10000,100000,1000000,10000000]\n",
    "for i, j in zip(qa_list,option):\n",
    "    print(i)\n",
    "    print(f\"a) {j[0]}, b) {j[1]}  ,c) {j[2]} ,d) {j[3]}\")\n",
    "    uchoice=input(\"enter u choice\")\n",
    "    if uchoice==j[-1]:\n",
    "        print(\"correct\")\n",
    "    else:\n",
    "        print(\"wrong\")\n",
    "#     print(f\"Q{i+1}: {i} \")\n",
    "#     print(f\"a) {j+1}    b) {j+2}     c) {j+3}       d) {j+4}\")\n"
   ]
  },
  {
   "cell_type": "code",
   "execution_count": null,
   "id": "8077ff5e",
   "metadata": {},
   "outputs": [],
   "source": []
  },
  {
   "cell_type": "code",
   "execution_count": null,
   "id": "475081e7",
   "metadata": {},
   "outputs": [],
   "source": []
  }
 ],
 "metadata": {
  "kernelspec": {
   "display_name": "Python 3 (ipykernel)",
   "language": "python",
   "name": "python3"
  },
  "language_info": {
   "codemirror_mode": {
    "name": "ipython",
    "version": 3
   },
   "file_extension": ".py",
   "mimetype": "text/x-python",
   "name": "python",
   "nbconvert_exporter": "python",
   "pygments_lexer": "ipython3",
   "version": "3.11.7"
  }
 },
 "nbformat": 4,
 "nbformat_minor": 5
}
