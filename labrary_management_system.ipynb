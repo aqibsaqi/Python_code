{
 "cells": [
  {
   "cell_type": "code",
   "execution_count": 31,
   "id": "fa8374bf",
   "metadata": {},
   "outputs": [],
   "source": [
    "Book={}\n",
    "def add_book():\n",
    "    Book[\"title\"]=input(\"enter book title\")\n",
    "    Book[\"book_id\"]=int(input(\"enter book id\"))\n",
    "    Book[\"category\"]=input(\"enter book category\")\n",
    "    print(\"book title:\",Book[\"title\"])\n",
    "    print(\"book id:\",Book[\"book_id\"])\n",
    "    print(\"book category:\",Book[\"category\"])\n",
    "    print(Book)\n",
    "    \n",
    "#     print(f\"{Book[\"title\"]} ,  {Book[\"book_id\"]} ,  {Book[\"category\"]}\")"
   ]
  },
  {
   "cell_type": "code",
   "execution_count": 39,
   "id": "2ff1b4c6",
   "metadata": {},
   "outputs": [
    {
     "name": "stdout",
     "output_type": "stream",
     "text": [
      "{'title': '1', 'book_id': 345, 'category': 'human sychology', 1234: 345, '1234': 345, 'id': 345}\n"
     ]
    }
   ],
   "source": [
    "Book[\"book_id\"]=345\n",
    "print(Book)\n",
    "Book_1=[]"
   ]
  },
  {
   "cell_type": "code",
   "execution_count": 33,
   "id": "79d5dfbb",
   "metadata": {},
   "outputs": [
    {
     "name": "stdout",
     "output_type": "stream",
     "text": [
      "\n",
      "    1. yes/continue\n",
      "    2. No/Exite\n",
      "    1\n",
      "\n",
      "        Enter the option thats you want too edits\n",
      "        1. Add_Book\n",
      "        2. Update_Book\n",
      "        3. Delet_Book\n",
      "        1\n",
      "enter book title1\n",
      "enter book idsdd\n"
     ]
    },
    {
     "ename": "ValueError",
     "evalue": "invalid literal for int() with base 10: 'sdd'",
     "output_type": "error",
     "traceback": [
      "\u001b[1;31m---------------------------------------------------------------------------\u001b[0m",
      "\u001b[1;31mValueError\u001b[0m                                Traceback (most recent call last)",
      "Cell \u001b[1;32mIn[33], line 14\u001b[0m\n\u001b[0;32m      7\u001b[0m option\u001b[38;5;241m=\u001b[39m\u001b[38;5;28mint\u001b[39m(\u001b[38;5;28minput\u001b[39m(\u001b[38;5;124m'''\u001b[39m\n\u001b[0;32m      8\u001b[0m \u001b[38;5;124mEnter the option thats you want too edits\u001b[39m\n\u001b[0;32m      9\u001b[0m \u001b[38;5;124m1. Add_Book\u001b[39m\n\u001b[0;32m     10\u001b[0m \u001b[38;5;124m2. Update_Book\u001b[39m\n\u001b[0;32m     11\u001b[0m \u001b[38;5;124m3. Delet_Book\u001b[39m\n\u001b[0;32m     12\u001b[0m \u001b[38;5;124m\u001b[39m\u001b[38;5;124m'''\u001b[39m))\n\u001b[0;32m     13\u001b[0m \u001b[38;5;28;01mif\u001b[39;00m choice\u001b[38;5;241m==\u001b[39m\u001b[38;5;241m1\u001b[39m:\n\u001b[1;32m---> 14\u001b[0m     add_book()\n\u001b[0;32m     15\u001b[0m \u001b[38;5;28;01melif\u001b[39;00m choice\u001b[38;5;241m==\u001b[39m\u001b[38;5;241m2\u001b[39m:\n\u001b[0;32m     16\u001b[0m     \u001b[38;5;28;01mpass\u001b[39;00m\n",
      "Cell \u001b[1;32mIn[31], line 4\u001b[0m, in \u001b[0;36madd_book\u001b[1;34m()\u001b[0m\n\u001b[0;32m      2\u001b[0m \u001b[38;5;28;01mdef\u001b[39;00m \u001b[38;5;21madd_book\u001b[39m():\n\u001b[0;32m      3\u001b[0m     Book[\u001b[38;5;124m\"\u001b[39m\u001b[38;5;124mtitle\u001b[39m\u001b[38;5;124m\"\u001b[39m]\u001b[38;5;241m=\u001b[39m\u001b[38;5;28minput\u001b[39m(\u001b[38;5;124m\"\u001b[39m\u001b[38;5;124menter book title\u001b[39m\u001b[38;5;124m\"\u001b[39m)\n\u001b[1;32m----> 4\u001b[0m     Book[\u001b[38;5;124m\"\u001b[39m\u001b[38;5;124mbook_id\u001b[39m\u001b[38;5;124m\"\u001b[39m]\u001b[38;5;241m=\u001b[39m\u001b[38;5;28mint\u001b[39m(\u001b[38;5;28minput\u001b[39m(\u001b[38;5;124m\"\u001b[39m\u001b[38;5;124menter book id\u001b[39m\u001b[38;5;124m\"\u001b[39m))\n\u001b[0;32m      5\u001b[0m     Book[\u001b[38;5;124m\"\u001b[39m\u001b[38;5;124mcategory\u001b[39m\u001b[38;5;124m\"\u001b[39m]\u001b[38;5;241m=\u001b[39m\u001b[38;5;28minput\u001b[39m(\u001b[38;5;124m\"\u001b[39m\u001b[38;5;124menter book category\u001b[39m\u001b[38;5;124m\"\u001b[39m)\n\u001b[0;32m      6\u001b[0m     \u001b[38;5;28mprint\u001b[39m(\u001b[38;5;124m\"\u001b[39m\u001b[38;5;124mbook title:\u001b[39m\u001b[38;5;124m\"\u001b[39m,Book[\u001b[38;5;124m\"\u001b[39m\u001b[38;5;124mtitle\u001b[39m\u001b[38;5;124m\"\u001b[39m])\n",
      "\u001b[1;31mValueError\u001b[0m: invalid literal for int() with base 10: 'sdd'"
     ]
    }
   ],
   "source": [
    "while True:\n",
    "    choice=int(input('''\n",
    "    1. yes/continue\n",
    "    2. No/Exite\n",
    "    '''))\n",
    "    if choice==1:\n",
    "        option=int(input('''\n",
    "        Enter the option thats you want too edits\n",
    "        1. Add_Book\n",
    "        2. Update_Book\n",
    "        3. Delet_Book\n",
    "        '''))\n",
    "        if choice==1:\n",
    "            add_book()\n",
    "        elif choice==2:\n",
    "            pass\n",
    "        elif choice==3:\n",
    "            pass\n",
    "        else:\n",
    "            print(\"invalide option pleas choice another option\")\n",
    "    else:\n",
    "        break"
   ]
  },
  {
   "cell_type": "code",
   "execution_count": null,
   "id": "a85b3ee6",
   "metadata": {},
   "outputs": [],
   "source": []
  }
 ],
 "metadata": {
  "kernelspec": {
   "display_name": "Python 3 (ipykernel)",
   "language": "python",
   "name": "python3"
  },
  "language_info": {
   "codemirror_mode": {
    "name": "ipython",
    "version": 3
   },
   "file_extension": ".py",
   "mimetype": "text/x-python",
   "name": "python",
   "nbconvert_exporter": "python",
   "pygments_lexer": "ipython3",
   "version": "3.11.7"
  }
 },
 "nbformat": 4,
 "nbformat_minor": 5
}
