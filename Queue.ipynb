{
 "cells": [
  {
   "cell_type": "code",
   "execution_count": 1,
   "id": "727061de",
   "metadata": {},
   "outputs": [],
   "source": [
    "from collections import deque\n"
   ]
  },
  {
   "cell_type": "code",
   "execution_count": 2,
   "id": "5ba1eb27",
   "metadata": {},
   "outputs": [],
   "source": [
    "queue = deque()"
   ]
  },
  {
   "cell_type": "code",
   "execution_count": 3,
   "id": "977242f9",
   "metadata": {},
   "outputs": [
    {
     "name": "stdout",
     "output_type": "stream",
     "text": [
      "\n",
      "=== QUEUE MENU ===\n",
      "1. Enqueue (Insert)\n",
      "2. Dequeue (Remove)\n",
      "3. Front Element\n",
      "4. Rear Element\n",
      "5. Display Queue\n",
      "6. Exit\n",
      "\n"
     ]
    }
   ],
   "source": [
    "print('''\n",
    "=== QUEUE MENU ===\n",
    "1. Enqueue (Insert)\n",
    "2. Dequeue (Remove)\n",
    "3. Front Element\n",
    "4. Rear Element\n",
    "5. Display Queue\n",
    "6. Exit\n",
    "''')"
   ]
  },
  {
   "cell_type": "code",
   "execution_count": 5,
   "id": "44b4caba",
   "metadata": {},
   "outputs": [
    {
     "name": "stdout",
     "output_type": "stream",
     "text": [
      "\n",
      "    === QUEUE MENU ===\n",
      "       1. Enqueue (Insert)\n",
      "       2. Dequeue (Remove)\n",
      "       3. Front Element\n",
      "       4. Rear Element  \n",
      "       5. Display Queue\n",
      "       6. Exit\n",
      "    5\n",
      "Current Queue: ['12']\n",
      "\n",
      "    === QUEUE MENU ===\n",
      "       1. Enqueue (Insert)\n",
      "       2. Dequeue (Remove)\n",
      "       3. Front Element\n",
      "       4. Rear Element  \n",
      "       5. Display Queue\n",
      "       6. Exit\n",
      "    1\n",
      "Enter element to enqueue: 34\n",
      "'34' has been enqueued.\n",
      "\n",
      "    === QUEUE MENU ===\n",
      "       1. Enqueue (Insert)\n",
      "       2. Dequeue (Remove)\n",
      "       3. Front Element\n",
      "       4. Rear Element  \n",
      "       5. Display Queue\n",
      "       6. Exit\n",
      "    1\n",
      "Enter element to enqueue: 56\n",
      "'56' has been enqueued.\n",
      "\n",
      "    === QUEUE MENU ===\n",
      "       1. Enqueue (Insert)\n",
      "       2. Dequeue (Remove)\n",
      "       3. Front Element\n",
      "       4. Rear Element  \n",
      "       5. Display Queue\n",
      "       6. Exit\n",
      "    2\n",
      "Dequeued element: 12\n",
      "\n",
      "    === QUEUE MENU ===\n",
      "       1. Enqueue (Insert)\n",
      "       2. Dequeue (Remove)\n",
      "       3. Front Element\n",
      "       4. Rear Element  \n",
      "       5. Display Queue\n",
      "       6. Exit\n",
      "    6\n",
      "Exiting program...\n"
     ]
    }
   ],
   "source": [
    "while True:\n",
    "    choice = input('''\n",
    "    === QUEUE MENU ===\n",
    "       1. Enqueue (Insert)\n",
    "       2. Dequeue (Remove)\n",
    "       3. Front Element\n",
    "       4. Rear Element  \n",
    "       5. Display Queue\n",
    "       6. Exit\n",
    "    ''')\n",
    "\n",
    "    if choice == '1':\n",
    "        item = input(\"Enter element to enqueue: \")\n",
    "        queue.append(item)\n",
    "        print(f\"'{item}' has been enqueued.\")\n",
    "\n",
    "    elif choice == '2':\n",
    "        if not queue:\n",
    "            print(\"Queue is empty! Cannot dequeue.\")\n",
    "        else:\n",
    "            removed = queue.popleft()\n",
    "            print(f\"Dequeued element: {removed}\")\n",
    "\n",
    "    elif choice == '3':\n",
    "        if not queue:\n",
    "            print(\"Queue is empty! No front element.\")\n",
    "        else:\n",
    "            print(f\"Front element: {queue[0]}\")\n",
    "\n",
    "    elif choice == '4':\n",
    "        if not queue:\n",
    "            print(\"Queue is empty! No rear element.\")\n",
    "        else:\n",
    "            print(f\"Rear element: {queue[-1]}\")\n",
    "\n",
    "    elif choice == '5':\n",
    "        print(\"Current Queue:\", list(queue))\n",
    "\n",
    "    elif choice == '6':\n",
    "        print(\"Exiting program...\")\n",
    "        break\n",
    "\n",
    "    else:\n",
    "        print(\"Invalid choice! Please enter a number from 1 to 6.\")\n"
   ]
  },
  {
   "cell_type": "code",
   "execution_count": null,
   "id": "d230466b",
   "metadata": {},
   "outputs": [],
   "source": []
  }
 ],
 "metadata": {
  "kernelspec": {
   "display_name": "Python 3 (ipykernel)",
   "language": "python",
   "name": "python3"
  },
  "language_info": {
   "codemirror_mode": {
    "name": "ipython",
    "version": 3
   },
   "file_extension": ".py",
   "mimetype": "text/x-python",
   "name": "python",
   "nbconvert_exporter": "python",
   "pygments_lexer": "ipython3",
   "version": "3.11.7"
  }
 },
 "nbformat": 4,
 "nbformat_minor": 5
}
