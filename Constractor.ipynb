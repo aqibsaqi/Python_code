{
 "cells": [
  {
   "cell_type": "code",
   "execution_count": 3,
   "id": "c06194fc",
   "metadata": {},
   "outputs": [],
   "source": [
    "class car:\n",
    "    # creat constractor\n",
    "    def __init__(self, model_name,color,price):\n",
    "        self.model_name=model_name\n",
    "        self.color=color\n",
    "        #private var\n",
    "        self._price=price"
   ]
  },
  {
   "cell_type": "code",
   "execution_count": 4,
   "id": "cabb209e",
   "metadata": {},
   "outputs": [],
   "source": [
    "#creat object \n",
    "c1=car(\"BMW\",'red','$2000')"
   ]
  },
  {
   "cell_type": "code",
   "execution_count": 5,
   "id": "ab6bdf23",
   "metadata": {},
   "outputs": [
    {
     "name": "stdout",
     "output_type": "stream",
     "text": [
      "BMW\n"
     ]
    }
   ],
   "source": [
    "print(c1.model_name)"
   ]
  },
  {
   "cell_type": "code",
   "execution_count": 6,
   "id": "6f5b1fe3",
   "metadata": {},
   "outputs": [
    {
     "name": "stdout",
     "output_type": "stream",
     "text": [
      "red\n"
     ]
    }
   ],
   "source": [
    "print(c1.color)"
   ]
  },
  {
   "cell_type": "code",
   "execution_count": 7,
   "id": "af1e30e2",
   "metadata": {},
   "outputs": [
    {
     "ename": "AttributeError",
     "evalue": "'car' object has no attribute 'price'",
     "output_type": "error",
     "traceback": [
      "\u001b[1;31m---------------------------------------------------------------------------\u001b[0m",
      "\u001b[1;31mAttributeError\u001b[0m                            Traceback (most recent call last)",
      "Cell \u001b[1;32mIn[7], line 2\u001b[0m\n\u001b[0;32m      1\u001b[0m \u001b[38;5;66;03m#cannot access private varr when you try to access it then come error\u001b[39;00m\n\u001b[1;32m----> 2\u001b[0m \u001b[38;5;28mprint\u001b[39m(c1\u001b[38;5;241m.\u001b[39mprice)\n",
      "\u001b[1;31mAttributeError\u001b[0m: 'car' object has no attribute 'price'"
     ]
    }
   ],
   "source": [
    "#cannot access private varr when you try to access it then come error\n",
    "print(c1.price)"
   ]
  },
  {
   "cell_type": "code",
   "execution_count": null,
   "id": "a7a4d099",
   "metadata": {},
   "outputs": [],
   "source": []
  }
 ],
 "metadata": {
  "kernelspec": {
   "display_name": "Python 3 (ipykernel)",
   "language": "python",
   "name": "python3"
  },
  "language_info": {
   "codemirror_mode": {
    "name": "ipython",
    "version": 3
   },
   "file_extension": ".py",
   "mimetype": "text/x-python",
   "name": "python",
   "nbconvert_exporter": "python",
   "pygments_lexer": "ipython3",
   "version": "3.11.7"
  }
 },
 "nbformat": 4,
 "nbformat_minor": 5
}
