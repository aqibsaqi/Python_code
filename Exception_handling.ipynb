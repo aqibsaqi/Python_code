{
 "cells": [
  {
   "cell_type": "code",
   "execution_count": 23,
   "id": "c0fedf12",
   "metadata": {},
   "outputs": [
    {
     "name": "stdout",
     "output_type": "stream",
     "text": [
      "enter the any number that want to generate table0\n",
      "0 X 1 = 0\n",
      "0 X 2 = 0\n",
      "0 X 3 = 0\n",
      "0 X 4 = 0\n",
      "0 X 5 = 0\n",
      "0 X 6 = 0\n",
      "0 X 7 = 0\n",
      "0 X 8 = 0\n",
      "0 X 9 = 0\n",
      "0 X 10 = 0\n"
     ]
    }
   ],
   "source": [
    "'''\n",
    "error Exception handling :the process that handle unexpected event \\\n",
    "TypeError\n",
    "SyntaxError\n",
    "MemoryError\n",
    "ValueError\n",
    "\n",
    "'''\n",
    "number=input(\"enter the any number that want to generate table\")\n",
    "\n",
    "try:\n",
    "    for i in range(1,11):\n",
    "        print(f\"{int(number)} X {i} = {int(number)*i}\")\n",
    "except :\n",
    "    print(\"invalid input type\")\n",
    "finally:\n",
    "    a=12\n",
    "    b=23\n",
    "    print(\"add two number  \",a+b)\n",
    "\n",
    "    \n",
    "    \n",
    "     \n"
   ]
  },
  {
   "cell_type": "code",
   "execution_count": 31,
   "id": "3400a196",
   "metadata": {},
   "outputs": [
    {
     "name": "stdout",
     "output_type": "stream",
     "text": [
      "enter the nun in 1 to 10str\n"
     ]
    },
    {
     "ename": "ValueError",
     "evalue": "invalid literal for int() with base 10: 'str'",
     "output_type": "error",
     "traceback": [
      "\u001b[1;31m---------------------------------------------------------------------------\u001b[0m",
      "\u001b[1;31mValueError\u001b[0m                                Traceback (most recent call last)",
      "Cell \u001b[1;32mIn[31], line 3\u001b[0m\n\u001b[0;32m      1\u001b[0m \u001b[38;5;66;03m#custom error \u001b[39;00m\n\u001b[0;32m      2\u001b[0m \u001b[38;5;66;03m#raise key_words use \u001b[39;00m\n\u001b[1;32m----> 3\u001b[0m num\u001b[38;5;241m=\u001b[39m\u001b[38;5;28mint\u001b[39m(\u001b[38;5;28minput\u001b[39m(\u001b[38;5;124m\"\u001b[39m\u001b[38;5;124menter the nun in 1 to 10\u001b[39m\u001b[38;5;124m\"\u001b[39m))\n\u001b[0;32m      4\u001b[0m \u001b[38;5;28;01mif\u001b[39;00m num\u001b[38;5;241m<\u001b[39m\u001b[38;5;241m1\u001b[39m \u001b[38;5;129;01mor\u001b[39;00m num\u001b[38;5;241m>\u001b[39m\u001b[38;5;241m10\u001b[39m:\n\u001b[0;32m      5\u001b[0m     \u001b[38;5;28;01mraise\u001b[39;00m \u001b[38;5;167;01mValueError\u001b[39;00m(\u001b[38;5;124m\"\u001b[39m\u001b[38;5;124mvalide input enter\u001b[39m\u001b[38;5;124m\"\u001b[39m)\n",
      "\u001b[1;31mValueError\u001b[0m: invalid literal for int() with base 10: 'str'"
     ]
    }
   ],
   "source": [
    "#custom error \n",
    "#raise key_words use \n",
    "num=int(input(\"enter the nun in 1 to 10\"))\n",
    "if num<1 or num>10:\n",
    "    raise ValueError(\"valide input enter\")\n",
    "else:\n",
    "    print(\"==Table create===\")\n",
    "    for i in range(1,11):\n",
    "        print( f\"{num} X {i} ={num*i}\")\n",
    "    \n",
    "\n"
   ]
  },
  {
   "cell_type": "code",
   "execution_count": 7,
   "id": "59ea9dad",
   "metadata": {},
   "outputs": [
    {
     "name": "stdout",
     "output_type": "stream",
     "text": [
      "enter the first number12\n",
      "enter the  second number34\n"
     ]
    }
   ],
   "source": [
    "first_num=int(input(\"enter the first number\"))\n",
    "sec_num= int(input(\"enter the  second number\"))"
   ]
  },
  {
   "cell_type": "code",
   "execution_count": 9,
   "id": "19b83d31",
   "metadata": {},
   "outputs": [
    {
     "name": "stdout",
     "output_type": "stream",
     "text": [
      " 12 / 34 =  0.35294117647058826\n",
      "Thanks for using me\n"
     ]
    }
   ],
   "source": [
    "try:\n",
    "    result=first_num/sec_num\n",
    "    print(f\" {first_num} / {sec_num} =  {result}\")\n",
    "except ZeroDivisionError:\n",
    "    print(\"you cannot divide with zero 0\")\n",
    "except ValueError:\n",
    "    print(\"only integer number allowed \")\n",
    "finally:\n",
    "    print(\"Thanks for using me\")"
   ]
  },
  {
   "cell_type": "code",
   "execution_count": null,
   "id": "58988845",
   "metadata": {},
   "outputs": [],
   "source": []
  }
 ],
 "metadata": {
  "kernelspec": {
   "display_name": "Python 3 (ipykernel)",
   "language": "python",
   "name": "python3"
  },
  "language_info": {
   "codemirror_mode": {
    "name": "ipython",
    "version": 3
   },
   "file_extension": ".py",
   "mimetype": "text/x-python",
   "name": "python",
   "nbconvert_exporter": "python",
   "pygments_lexer": "ipython3",
   "version": "3.11.7"
  }
 },
 "nbformat": 4,
 "nbformat_minor": 5
}
