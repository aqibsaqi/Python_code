{
 "cells": [
  {
   "cell_type": "code",
   "execution_count": 6,
   "id": "1632fa11",
   "metadata": {},
   "outputs": [
    {
     "name": "stdout",
     "output_type": "stream",
     "text": [
      "length of tuple 5\n",
      "minimun number in tuple 1\n",
      "maximun number in tuple 5\n",
      "first value in tuple 2\n",
      "first value in tuple (2, 3, 4)\n"
     ]
    }
   ],
   "source": [
    "'''\n",
    "Tuple :\n",
    "rep --- ()\n",
    "immutable mean cannot change it only access it \n",
    "methode(len,min,max,count,index,sort)\n",
    "'''\n",
    "T1=(1,2,3,4,5)\n",
    "#find length of tuple\n",
    "print(\"length of tuple\",len(T1))\n",
    "#find min value\n",
    "print(\"minimun number in tuple\",min(T1))\n",
    "#find max value\n",
    "print(\"maximun number in tuple\",max(T1))\n",
    "#indexing\n",
    "print(\"first value in tuple\",T1[1])\n",
    "#slicing \n",
    "print(\"first value in tuple\",T1[1:4])"
   ]
  },
  {
   "cell_type": "code",
   "execution_count": 35,
   "id": "6bd8b89f",
   "metadata": {},
   "outputs": [
    {
     "name": "stdout",
     "output_type": "stream",
     "text": [
      "{'name': ['ali', 'saqi', 'kamran', 'anees'], 'roll_no': 1234, 'age': 22}\n"
     ]
    }
   ],
   "source": [
    "'''\n",
    "Dictionary \n",
    "rep--- {}\n",
    "mutable means changeable\n",
    "Dynamic \n",
    "order form\n",
    "pair-value --name:saqi\n",
    "'''\n",
    "my_dict={\n",
    "    \"name\":\"saqi\",\n",
    "    \"roll_no\":1234,\n",
    "    \"age\":22\n",
    "}\n",
    "#add new pair value\n",
    "my_dict[\"name\"]=[\"ali\",\"saqi\",\"kamran\",\"anees\"]\n",
    "print(my_dict)"
   ]
  },
  {
   "cell_type": "code",
   "execution_count": 33,
   "id": "e0a5a641",
   "metadata": {},
   "outputs": [
    {
     "name": "stdout",
     "output_type": "stream",
     "text": [
      "{'roll_no': [234, 232, 56, 675, 789], 'date_Of_birth': '15_04_2000'}\n"
     ]
    }
   ],
   "source": [
    "#update\n",
    "my_dict[\"roll_no\"]=[234,232,56,675,789]\n",
    "print(my_dict)"
   ]
  },
  {
   "cell_type": "code",
   "execution_count": 14,
   "id": "4339c90d",
   "metadata": {},
   "outputs": [
    {
     "name": "stdout",
     "output_type": "stream",
     "text": [
      "dict_keys(['name', 'roll_no', 'age', 'date_Of_birth'])\n"
     ]
    }
   ],
   "source": [
    "#access key in dictionary\n",
    "keys=my_dict.keys()\n",
    "print(keys)"
   ]
  },
  {
   "cell_type": "code",
   "execution_count": 15,
   "id": "0e1ce213",
   "metadata": {},
   "outputs": [
    {
     "name": "stdout",
     "output_type": "stream",
     "text": [
      "dict_values(['saqi', 470, 22, '15_04_2000'])\n"
     ]
    }
   ],
   "source": [
    "#access values in dictionary\n",
    "values=my_dict.values()\n",
    "print(values)"
   ]
  },
  {
   "cell_type": "code",
   "execution_count": 25,
   "id": "ce16d99d",
   "metadata": {},
   "outputs": [
    {
     "name": "stdout",
     "output_type": "stream",
     "text": [
      "22\n"
     ]
    }
   ],
   "source": [
    "#access values by keys\n",
    "print(my_dict[\"age\"])"
   ]
  },
  {
   "cell_type": "code",
   "execution_count": 29,
   "id": "8ff28885",
   "metadata": {},
   "outputs": [
    {
     "name": "stdout",
     "output_type": "stream",
     "text": [
      "{'roll_no': 470, 'date_Of_birth': '15_04_2000'}\n"
     ]
    }
   ],
   "source": [
    "#delete key -value in dictionary\n",
    "del my_dict[\"age\"]\n",
    "print(my_dict)"
   ]
  },
  {
   "cell_type": "code",
   "execution_count": 36,
   "id": "1b969b3b",
   "metadata": {},
   "outputs": [
    {
     "data": {
      "text/plain": [
       "dict_items([('name', ['ali', 'saqi', 'kamran', 'anees']), ('roll_no', 1234), ('age', 22)])"
      ]
     },
     "execution_count": 36,
     "metadata": {},
     "output_type": "execute_result"
    }
   ],
   "source": [
    "#items give keys and values \n",
    "my_dict.items()"
   ]
  },
  {
   "cell_type": "code",
   "execution_count": 39,
   "id": "ec284c4d",
   "metadata": {},
   "outputs": [
    {
     "name": "stdout",
     "output_type": "stream",
     "text": [
      "name\n",
      "roll_no\n",
      "age\n"
     ]
    }
   ],
   "source": [
    "for i in my_dict.keys():\n",
    "    print(i)"
   ]
  },
  {
   "cell_type": "code",
   "execution_count": 40,
   "id": "ff629ee4",
   "metadata": {},
   "outputs": [
    {
     "name": "stdout",
     "output_type": "stream",
     "text": [
      "['ali', 'saqi', 'kamran', 'anees']\n",
      "1234\n",
      "22\n"
     ]
    }
   ],
   "source": [
    "for i in my_dict.values():\n",
    "    print(i)"
   ]
  },
  {
   "cell_type": "code",
   "execution_count": 41,
   "id": "5afa5fa1",
   "metadata": {},
   "outputs": [
    {
     "name": "stdout",
     "output_type": "stream",
     "text": [
      "('name', ['ali', 'saqi', 'kamran', 'anees'])\n",
      "('roll_no', 1234)\n",
      "('age', 22)\n"
     ]
    }
   ],
   "source": [
    "for i in my_dict.items():\n",
    "    print(i)"
   ]
  },
  {
   "cell_type": "code",
   "execution_count": null,
   "id": "ed92e17e",
   "metadata": {},
   "outputs": [],
   "source": []
  }
 ],
 "metadata": {
  "kernelspec": {
   "display_name": "Python 3 (ipykernel)",
   "language": "python",
   "name": "python3"
  },
  "language_info": {
   "codemirror_mode": {
    "name": "ipython",
    "version": 3
   },
   "file_extension": ".py",
   "mimetype": "text/x-python",
   "name": "python",
   "nbconvert_exporter": "python",
   "pygments_lexer": "ipython3",
   "version": "3.11.7"
  }
 },
 "nbformat": 4,
 "nbformat_minor": 5
}
