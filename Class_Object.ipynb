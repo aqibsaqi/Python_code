{
 "cells": [
  {
   "cell_type": "code",
   "execution_count": 2,
   "id": "edb68803",
   "metadata": {},
   "outputs": [
    {
     "name": "stdout",
     "output_type": "stream",
     "text": [
      "name is= saqi  roll_no is= 3456  total_marks is =750\n"
     ]
    }
   ],
   "source": [
    "class student:\n",
    "    #methode\n",
    "    def info(self,name,roll_no,total_marks):\n",
    "        self.name=name\n",
    "        self.roll_no=roll_no\n",
    "        self.total_marks=total_marks"
   ]
  },
  {
   "cell_type": "code",
   "execution_count": 4,
   "id": "850ebc9a",
   "metadata": {},
   "outputs": [],
   "source": [
    "#creat object of class \n",
    "s1=student()\n",
    "s1.info(\"saqi\",3456,750) #call method  with argument by s1 as object"
   ]
  },
  {
   "cell_type": "code",
   "execution_count": 5,
   "id": "c7c4603d",
   "metadata": {},
   "outputs": [
    {
     "name": "stdout",
     "output_type": "stream",
     "text": [
      "name is= saqi  roll_no is= 3456  total_marks is =750\n"
     ]
    }
   ],
   "source": [
    "print(f\"name is= {s1.name}  roll_no is= {s1.roll_no}  total_marks is ={s1.total_marks}\")"
   ]
  },
  {
   "cell_type": "code",
   "execution_count": 17,
   "id": "d61c13ee",
   "metadata": {},
   "outputs": [],
   "source": [
    "class car:\n",
    "    # creat constractor\n",
    "    def __init__(self, model_name,color,price):\n",
    "        self.model_name=model_name\n",
    "        self.color=color\n",
    "        self._price=price"
   ]
  },
  {
   "cell_type": "code",
   "execution_count": 18,
   "id": "99eb4589",
   "metadata": {},
   "outputs": [],
   "source": [
    "#creat object \n",
    "c1=car(\"BMW\",'red','$2000')"
   ]
  },
  {
   "cell_type": "code",
   "execution_count": 19,
   "id": "b2d8c999",
   "metadata": {},
   "outputs": [
    {
     "name": "stdout",
     "output_type": "stream",
     "text": [
      "BMW\n"
     ]
    }
   ],
   "source": [
    "print(c1.model_name)"
   ]
  },
  {
   "cell_type": "code",
   "execution_count": 21,
   "id": "0ff6499c",
   "metadata": {},
   "outputs": [
    {
     "name": "stdout",
     "output_type": "stream",
     "text": [
      "red\n"
     ]
    }
   ],
   "source": [
    "print(c1.color)"
   ]
  },
  {
   "cell_type": "code",
   "execution_count": 22,
   "id": "29162781",
   "metadata": {},
   "outputs": [
    {
     "ename": "AttributeError",
     "evalue": "'car' object has no attribute 'price'",
     "output_type": "error",
     "traceback": [
      "\u001b[1;31m---------------------------------------------------------------------------\u001b[0m",
      "\u001b[1;31mAttributeError\u001b[0m                            Traceback (most recent call last)",
      "Cell \u001b[1;32mIn[22], line 2\u001b[0m\n\u001b[0;32m      1\u001b[0m \u001b[38;5;66;03m#cannot access private varr when you try to access it then come error\u001b[39;00m\n\u001b[1;32m----> 2\u001b[0m \u001b[38;5;28mprint\u001b[39m(c1\u001b[38;5;241m.\u001b[39mprice)\n",
      "\u001b[1;31mAttributeError\u001b[0m: 'car' object has no attribute 'price'"
     ]
    }
   ],
   "source": [
    "#cannot access private varr when you try to access it then come error\n",
    "print(c1.price)"
   ]
  },
  {
   "cell_type": "code",
   "execution_count": null,
   "id": "2196ec35",
   "metadata": {},
   "outputs": [],
   "source": []
  }
 ],
 "metadata": {
  "kernelspec": {
   "display_name": "Python 3 (ipykernel)",
   "language": "python",
   "name": "python3"
  },
  "language_info": {
   "codemirror_mode": {
    "name": "ipython",
    "version": 3
   },
   "file_extension": ".py",
   "mimetype": "text/x-python",
   "name": "python",
   "nbconvert_exporter": "python",
   "pygments_lexer": "ipython3",
   "version": "3.11.7"
  }
 },
 "nbformat": 4,
 "nbformat_minor": 5
}
