{
 "cells": [
  {
   "cell_type": "markdown",
   "id": "f9409246",
   "metadata": {},
   "source": [
    "'''\n",
    "Arthimatic operator\n",
    "+,-,*,/,//,%,**\n",
    "mathe calculation\n",
    "'''"
   ]
  },
  {
   "cell_type": "code",
   "execution_count": 1,
   "id": "c043b09c",
   "metadata": {},
   "outputs": [
    {
     "name": "stdout",
     "output_type": "stream",
     "text": [
      "enter the first number12\n",
      "enter the seconde number23\n"
     ]
    }
   ],
   "source": [
    "num_1=int(input(\"enter the first number\"))\n",
    "num_2=int(input(\"enter the seconde number\"))"
   ]
  },
  {
   "cell_type": "code",
   "execution_count": 2,
   "id": "837e000a",
   "metadata": {},
   "outputs": [
    {
     "name": "stdout",
     "output_type": "stream",
     "text": [
      "enter the operator (+, - , / , // , % , * )\n",
      "+\n",
      "addition:\n",
      " 12 + 23 =35\n"
     ]
    }
   ],
   "source": [
    "\n",
    "choice=input(\"enter the operator (+, - , / , // , % , * )\\n\")\n",
    "if choice=='+':\n",
    "    print(f\"addition:\\n {num_1} + {num_2} ={num_1+num_2}\")\n",
    "    \n",
    "elif choice=='-':\n",
    "    print(f\"Subtraction:\\n {num_1} - {num_2} ={num_1-num_2}\")\n",
    "    \n",
    "elif choice=='*':\n",
    "    print(f\"Multiplication:\\n {num_1} * {num_2} ={num_1*num_2}\")\n",
    "elif choice=='/':\n",
    "    print(f\"Division:\\n {num_1} / {num_2} ={num_1/num_2}\")\n",
    "elif choice=='//':\n",
    "    print(f\"FloorDivision:\\n {num_1} // {num_2} ={num_1//num_2}\")\n",
    "elif choice=='%':\n",
    "    print(f\"Modulas:\\n {num_1} % {num_2} ={num_1%num_2}\")\n",
    "elif choice=='**':\n",
    "    print(f\"Exponent:\\n {num_1} ** {num_2} ={num_1**num_2}\")\n",
    "else:\n",
    "          print(\"invalide operator enter\")"
   ]
  },
  {
   "cell_type": "markdown",
   "id": "0d64c6ba",
   "metadata": {},
   "source": [
    " comparison operator\n",
    "== , != , < , > , <= , >= , \n",
    "use for compare two item "
   ]
  },
  {
   "cell_type": "code",
   "execution_count": 3,
   "id": "74641557",
   "metadata": {},
   "outputs": [
    {
     "name": "stdout",
     "output_type": "stream",
     "text": [
      "False\n"
     ]
    }
   ],
   "source": [
    "result=num_1==num_2\n",
    "print(result)"
   ]
  },
  {
   "cell_type": "code",
   "execution_count": 4,
   "id": "6aa9183c",
   "metadata": {},
   "outputs": [
    {
     "name": "stdout",
     "output_type": "stream",
     "text": [
      "True\n"
     ]
    }
   ],
   "source": [
    "result=num_1!=num_2\n",
    "print(result)"
   ]
  },
  {
   "cell_type": "code",
   "execution_count": 5,
   "id": "1ebacee1",
   "metadata": {},
   "outputs": [
    {
     "name": "stdout",
     "output_type": "stream",
     "text": [
      "True\n"
     ]
    }
   ],
   "source": [
    "result=num_1<num_2\n",
    "print(result)"
   ]
  },
  {
   "cell_type": "code",
   "execution_count": 6,
   "id": "cd01ae4c",
   "metadata": {},
   "outputs": [
    {
     "name": "stdout",
     "output_type": "stream",
     "text": [
      "False\n"
     ]
    }
   ],
   "source": [
    "result=num_1>num_2\n",
    "print(result)"
   ]
  },
  {
   "cell_type": "code",
   "execution_count": 7,
   "id": "3e85d158",
   "metadata": {},
   "outputs": [
    {
     "name": "stdout",
     "output_type": "stream",
     "text": [
      "True\n"
     ]
    }
   ],
   "source": [
    "result=num_1<=num_2\n",
    "print(result)"
   ]
  },
  {
   "cell_type": "code",
   "execution_count": 8,
   "id": "91377647",
   "metadata": {},
   "outputs": [
    {
     "name": "stdout",
     "output_type": "stream",
     "text": [
      "False\n"
     ]
    }
   ],
   "source": [
    "result=num_1>=num_2\n",
    "print(result)"
   ]
  },
  {
   "cell_type": "markdown",
   "id": "5cc47882",
   "metadata": {},
   "source": [
    "logical operator\n",
    " and , or , not \n",
    "resutl always True / False\n",
    "use for multiple codition "
   ]
  },
  {
   "cell_type": "code",
   "execution_count": 9,
   "id": "fb38a067",
   "metadata": {},
   "outputs": [
    {
     "name": "stdout",
     "output_type": "stream",
     "text": [
      "False\n"
     ]
    }
   ],
   "source": [
    "# logical operator \n",
    "result= (num_1 > num_2 and num_1 <num_2 )\n",
    "print(result)"
   ]
  },
  {
   "cell_type": "code",
   "execution_count": 10,
   "id": "9a653414",
   "metadata": {},
   "outputs": [
    {
     "name": "stdout",
     "output_type": "stream",
     "text": [
      "True\n"
     ]
    }
   ],
   "source": [
    "result= (num_1 > num_2 or num_1 <num_2 )\n",
    "print(result)"
   ]
  },
  {
   "cell_type": "code",
   "execution_count": 12,
   "id": "7c5428fc",
   "metadata": {},
   "outputs": [
    {
     "name": "stdout",
     "output_type": "stream",
     "text": [
      "False\n"
     ]
    }
   ],
   "source": [
    "result= not num_2 \n",
    "print(result)"
   ]
  },
  {
   "cell_type": "code",
   "execution_count": 14,
   "id": "c168ee66",
   "metadata": {},
   "outputs": [
    {
     "name": "stdout",
     "output_type": "stream",
     "text": [
      "False\n"
     ]
    }
   ],
   "source": [
    "'''  \n",
    "Identity opp\n",
    "is --- True if  same value point out\n",
    "is not ---True if diff value point out\n",
    "use for point memory location\n",
    "    \n",
    "'''\n",
    "print(num_2 is num_1)"
   ]
  },
  {
   "cell_type": "code",
   "execution_count": 15,
   "id": "a6f0228f",
   "metadata": {},
   "outputs": [
    {
     "name": "stdout",
     "output_type": "stream",
     "text": [
      "True\n"
     ]
    }
   ],
   "source": [
    "print(num_1 is not num_2)"
   ]
  },
  {
   "cell_type": "code",
   "execution_count": 18,
   "id": "3ec87ec1",
   "metadata": {},
   "outputs": [
    {
     "name": "stdout",
     "output_type": "stream",
     "text": [
      "True\n",
      "False\n",
      "False\n"
     ]
    }
   ],
   "source": [
    "a=[1,2,3]\n",
    "b=a\n",
    "c=[1,2,3]\n",
    "print(a is b) \n",
    "print(a is not b)\n",
    "print(a is c)"
   ]
  },
  {
   "cell_type": "code",
   "execution_count": null,
   "id": "b13f1f64",
   "metadata": {},
   "outputs": [],
   "source": []
  }
 ],
 "metadata": {
  "kernelspec": {
   "display_name": "Python 3 (ipykernel)",
   "language": "python",
   "name": "python3"
  },
  "language_info": {
   "codemirror_mode": {
    "name": "ipython",
    "version": 3
   },
   "file_extension": ".py",
   "mimetype": "text/x-python",
   "name": "python",
   "nbconvert_exporter": "python",
   "pygments_lexer": "ipython3",
   "version": "3.11.7"
  }
 },
 "nbformat": 4,
 "nbformat_minor": 5
}
