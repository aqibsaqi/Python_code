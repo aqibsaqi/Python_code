{
 "cells": [
  {
   "cell_type": "code",
   "execution_count": 1,
   "id": "c087c0b4",
   "metadata": {},
   "outputs": [
    {
     "data": {
      "text/plain": [
       "'\\ninput() give string value\\nint()  give integer value\\nfloat() give float value\\neval() handle int,flaot and binary value\\n'"
      ]
     },
     "execution_count": 1,
     "metadata": {},
     "output_type": "execute_result"
    }
   ],
   "source": [
    "'''\n",
    "input() give string value\n",
    "int()  give integer value\n",
    "float() give float value\n",
    "eval() handle int,flaot and binary value\n",
    "'''"
   ]
  },
  {
   "cell_type": "code",
   "execution_count": 2,
   "id": "3c812538",
   "metadata": {},
   "outputs": [
    {
     "name": "stdout",
     "output_type": "stream",
     "text": [
      "enter the number12\n",
      "<class 'str'> 12\n"
     ]
    }
   ],
   "source": [
    "a=input('enter the number')\n",
    "print(type(a) ,a)"
   ]
  },
  {
   "cell_type": "code",
   "execution_count": 4,
   "id": "dcaa5f4b",
   "metadata": {},
   "outputs": [
    {
     "name": "stdout",
     "output_type": "stream",
     "text": [
      "enter the number112\n",
      "<class 'int'> 112\n"
     ]
    }
   ],
   "source": [
    "a=int(input('enter the number'))\n",
    "print(type(a) ,a)"
   ]
  },
  {
   "cell_type": "code",
   "execution_count": 5,
   "id": "4ecacb14",
   "metadata": {},
   "outputs": [
    {
     "name": "stdout",
     "output_type": "stream",
     "text": [
      "enter the number23\n",
      "<class 'float'> 23.0\n"
     ]
    }
   ],
   "source": [
    "a=float(input('enter the number'))\n",
    "print(type(a) ,a)"
   ]
  },
  {
   "cell_type": "code",
   "execution_count": 6,
   "id": "239ccb13",
   "metadata": {},
   "outputs": [
    {
     "name": "stdout",
     "output_type": "stream",
     "text": [
      "enter the number12\n",
      "<class 'int'> 12\n"
     ]
    }
   ],
   "source": [
    "a=eval(input('enter the number'))\n",
    "print(type(a) ,a)"
   ]
  },
  {
   "cell_type": "code",
   "execution_count": 7,
   "id": "7e876189",
   "metadata": {},
   "outputs": [
    {
     "name": "stdout",
     "output_type": "stream",
     "text": [
      "enter the number12.23\n",
      "<class 'float'> 12.23\n"
     ]
    }
   ],
   "source": [
    "a=eval(input('enter the number'))\n",
    "print(type(a) ,a)"
   ]
  },
  {
   "cell_type": "code",
   "execution_count": 9,
   "id": "0e6ed554",
   "metadata": {},
   "outputs": [
    {
     "name": "stdout",
     "output_type": "stream",
     "text": [
      "enter the number12\n",
      "<class 'int'> 22\n"
     ]
    }
   ],
   "source": [
    "a=eval(input('enter the number'))\n",
    "b=0b1010  #int value 10\n",
    "print(type(b) ,a+b)"
   ]
  },
  {
   "cell_type": "code",
   "execution_count": 10,
   "id": "817e78c5",
   "metadata": {},
   "outputs": [
    {
     "name": "stdout",
     "output_type": "stream",
     "text": [
      "enter the number12\n",
      "<class 'int'> 12\n",
      "enter the number0b100\n",
      "48\n"
     ]
    }
   ],
   "source": [
    "a=eval(input('enter the number'))\n",
    "print(type(a) ,a)\n",
    "b=eval(input('enter the number'))\n",
    "print(a*b)"
   ]
  },
  {
   "cell_type": "code",
   "execution_count": null,
   "id": "305edfde",
   "metadata": {},
   "outputs": [],
   "source": []
  }
 ],
 "metadata": {
  "kernelspec": {
   "display_name": "Python 3 (ipykernel)",
   "language": "python",
   "name": "python3"
  },
  "language_info": {
   "codemirror_mode": {
    "name": "ipython",
    "version": 3
   },
   "file_extension": ".py",
   "mimetype": "text/x-python",
   "name": "python",
   "nbconvert_exporter": "python",
   "pygments_lexer": "ipython3",
   "version": "3.11.7"
  }
 },
 "nbformat": 4,
 "nbformat_minor": 5
}
