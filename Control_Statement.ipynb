{
 "cells": [
  {
   "cell_type": "code",
   "execution_count": 11,
   "id": "8c9f1fc3",
   "metadata": {},
   "outputs": [
    {
     "name": "stdout",
     "output_type": "stream",
     "text": [
      "enter the your age12\n",
      "you cannot vote\n"
     ]
    }
   ],
   "source": [
    "'''\n",
    "if condition:\n",
    "   Statement\n",
    "else\n",
    " statement\n",
    " '''\n",
    "Age=int(input(\"enter the your age\"))\n",
    "if Age >=18:\n",
    "    print(\"you can vote\")\n",
    "else:\n",
    "    print(\"you cannot vote\")"
   ]
  },
  {
   "cell_type": "code",
   "execution_count": 3,
   "id": "24b4d269",
   "metadata": {},
   "outputs": [
    {
     "name": "stdout",
     "output_type": "stream",
     "text": [
      "enter the your age12\n",
      "reenter the Age \n",
      "enter the your age56\n",
      "you can vote\n"
     ]
    }
   ],
   "source": [
    "'''\n",
    "while loop\n",
    "while condition\n",
    "   code \n",
    "'''\n",
    "while True:\n",
    "    Age=int(input(\"enter the your age\"))\n",
    "    if Age>=18:\n",
    "        print(\"you can vote\")\n",
    "        break\n",
    "    else:\n",
    "        print(\"reenter the Age \")\n",
    "        \n"
   ]
  },
  {
   "cell_type": "code",
   "execution_count": 4,
   "id": "6ce73ce6",
   "metadata": {},
   "outputs": [
    {
     "name": "stdout",
     "output_type": "stream",
     "text": [
      "Enter 'x' to exit, or anything else to continue: d\n",
      "Performing a task...\n",
      "Enter 'x' to exit, or anything else to continue: x\n",
      "Goodbye!\n"
     ]
    }
   ],
   "source": [
    "while True:\n",
    "    user_input = input(\"Enter 'x' to exit, or anything else to continue: \")\n",
    "    \n",
    "    if user_input.lower() == 'x':\n",
    "        print(\"Goodbye!\")\n",
    "        break\n",
    "    else:\n",
    "        print(\"Performing a task...\")\n",
    "        # Your actual program's logic goes here\n",
    "    "
   ]
  },
  {
   "cell_type": "code",
   "execution_count": 15,
   "id": "4553a754",
   "metadata": {},
   "outputs": [
    {
     "name": "stdout",
     "output_type": "stream",
     "text": [
      "[1, 3, 5, 7, 9]\n",
      "1\n",
      "3\n",
      "5\n",
      "9\n"
     ]
    }
   ],
   "source": [
    "'''\n",
    "for loop\n",
    "for val op sequence(list ,tuple,dict ,string)\n",
    "'''\n",
    "lst=list(range(1,10,2))\n",
    "print(lst)\n",
    "for i in lst :\n",
    "    if i==7:\n",
    "        continue #skip 7 number \n",
    "    \n",
    "    print(i)"
   ]
  },
  {
   "cell_type": "code",
   "execution_count": 32,
   "id": "ccd3ba6e",
   "metadata": {},
   "outputs": [
    {
     "name": "stdout",
     "output_type": "stream",
     "text": [
      "     *\n",
      "    ***\n",
      "   *****\n",
      "  *******\n",
      " *********\n",
      "***********\n"
     ]
    }
   ],
   "source": [
    "space=6\n",
    "for i in range(1,space+1):\n",
    "    print(\" \" *(space-i) ,end=\"\")\n",
    "    print(\"*\" * (2*i - 1))"
   ]
  },
  {
   "cell_type": "code",
   "execution_count": null,
   "id": "6d520efa",
   "metadata": {},
   "outputs": [],
   "source": [
    "    "
   ]
  },
  {
   "cell_type": "code",
   "execution_count": null,
   "id": "3476ebef",
   "metadata": {},
   "outputs": [],
   "source": []
  }
 ],
 "metadata": {
  "kernelspec": {
   "display_name": "Python 3 (ipykernel)",
   "language": "python",
   "name": "python3"
  },
  "language_info": {
   "codemirror_mode": {
    "name": "ipython",
    "version": 3
   },
   "file_extension": ".py",
   "mimetype": "text/x-python",
   "name": "python",
   "nbconvert_exporter": "python",
   "pygments_lexer": "ipython3",
   "version": "3.11.7"
  }
 },
 "nbformat": 4,
 "nbformat_minor": 5
}
