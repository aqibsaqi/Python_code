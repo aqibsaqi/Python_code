{
 "cells": [
  {
   "cell_type": "code",
   "execution_count": 7,
   "id": "88aea18f",
   "metadata": {},
   "outputs": [
    {
     "name": "stdout",
     "output_type": "stream",
     "text": [
      "0b100\n",
      "0b110\n"
     ]
    }
   ],
   "source": [
    "a=4\n",
    "b=6\n",
    "#bin use for binnary value\n",
    "print(bin(a))\n",
    "print(bin(b))"
   ]
  },
  {
   "cell_type": "code",
   "execution_count": 8,
   "id": "45b7f1f1",
   "metadata": {},
   "outputs": [
    {
     "name": "stdout",
     "output_type": "stream",
     "text": [
      "binary value  0b100  after process give intger value  4\n",
      "binary value  0b110  after process give intger value  6\n",
      "binary value  0b10  after process give intger value  2\n"
     ]
    }
   ],
   "source": [
    "print(f\"binary value  {bin(a&b)}  after process give intger value  {a&b}\")\n",
    "print(f\"binary value  {bin(a|b)}  after process give intger value  {a|b}\")\n",
    "print(f\"binary value  {bin(a^b)}  after process give intger value  {a^b}\")"
   ]
  },
  {
   "cell_type": "code",
   "execution_count": null,
   "id": "e166de17",
   "metadata": {},
   "outputs": [],
   "source": []
  }
 ],
 "metadata": {
  "kernelspec": {
   "display_name": "Python 3 (ipykernel)",
   "language": "python",
   "name": "python3"
  },
  "language_info": {
   "codemirror_mode": {
    "name": "ipython",
    "version": 3
   },
   "file_extension": ".py",
   "mimetype": "text/x-python",
   "name": "python",
   "nbconvert_exporter": "python",
   "pygments_lexer": "ipython3",
   "version": "3.11.7"
  }
 },
 "nbformat": 4,
 "nbformat_minor": 5
}
