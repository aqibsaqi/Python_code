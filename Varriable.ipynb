{
 "cells": [
  {
   "cell_type": "code",
   "execution_count": 1,
   "id": "60a440f6",
   "metadata": {},
   "outputs": [],
   "source": [
    "name=\"aqib\""
   ]
  },
  {
   "cell_type": "code",
   "execution_count": 2,
   "id": "ddf5cd0b",
   "metadata": {},
   "outputs": [],
   "source": [
    "age=22"
   ]
  },
  {
   "cell_type": "code",
   "execution_count": 3,
   "id": "fb915e49",
   "metadata": {},
   "outputs": [],
   "source": [
    "RollNo=\"F21_0470\""
   ]
  },
  {
   "cell_type": "code",
   "execution_count": 4,
   "id": "e6c45847",
   "metadata": {},
   "outputs": [],
   "source": [
    "cgpa=3.2"
   ]
  },
  {
   "cell_type": "code",
   "execution_count": 5,
   "id": "e9cfb538",
   "metadata": {},
   "outputs": [
    {
     "name": "stdout",
     "output_type": "stream",
     "text": [
      "name :aqib \n",
      " age :22 \n",
      " RollNo :F21_0470 \n",
      " cgpa :3.2\n"
     ]
    }
   ],
   "source": [
    "print(f\"name :{name} \\n age :{age} \\n RollNo :{RollNo} \\n cgpa :{cgpa}\")"
   ]
  },
  {
   "cell_type": "code",
   "execution_count": 6,
   "id": "cab13900",
   "metadata": {},
   "outputs": [
    {
     "name": "stdout",
     "output_type": "stream",
     "text": [
      "<class 'str'> <class 'int'> <class 'str'> <class 'float'>\n"
     ]
    }
   ],
   "source": [
    "print(type(name) ,type(age) ,type(RollNo) ,type(cgpa) )"
   ]
  },
  {
   "cell_type": "code",
   "execution_count": null,
   "id": "d77773d3",
   "metadata": {},
   "outputs": [],
   "source": []
  }
 ],
 "metadata": {
  "kernelspec": {
   "display_name": "Python 3 (ipykernel)",
   "language": "python",
   "name": "python3"
  },
  "language_info": {
   "codemirror_mode": {
    "name": "ipython",
    "version": 3
   },
   "file_extension": ".py",
   "mimetype": "text/x-python",
   "name": "python",
   "nbconvert_exporter": "python",
   "pygments_lexer": "ipython3",
   "version": "3.11.7"
  }
 },
 "nbformat": 4,
 "nbformat_minor": 5
}
