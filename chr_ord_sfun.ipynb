{
 "cells": [
  {
   "cell_type": "code",
   "execution_count": 2,
   "id": "54f4f60b",
   "metadata": {},
   "outputs": [
    {
     "name": "stdout",
     "output_type": "stream",
     "text": [
      "65\n",
      "97\n"
     ]
    }
   ],
   "source": [
    "print(ord('A'))  \n",
    "print(ord('a'))\n",
    "\n"
   ]
  },
  {
   "cell_type": "code",
   "execution_count": 3,
   "id": "438fc8eb",
   "metadata": {},
   "outputs": [
    {
     "name": "stdout",
     "output_type": "stream",
     "text": [
      "A\n",
      "a\n",
      "😊\n"
     ]
    }
   ],
   "source": [
    "print(chr(65))    \n",
    "print(chr(97))    \n",
    "print(chr(128522))\n"
   ]
  },
  {
   "cell_type": "code",
   "execution_count": 4,
   "id": "51e2a889",
   "metadata": {},
   "outputs": [],
   "source": [
    "char = 'B'\n",
    "code = ord(char)      # 66\n",
    "back_to_char = chr(code)  # 'B'\n"
   ]
  },
  {
   "cell_type": "code",
   "execution_count": 6,
   "id": "a7ef00ff",
   "metadata": {},
   "outputs": [
    {
     "name": "stdout",
     "output_type": "stream",
     "text": [
      "66\n",
      "B\n"
     ]
    }
   ],
   "source": [
    "print(code)\n",
    "print(back_to_char)"
   ]
  },
  {
   "cell_type": "code",
   "execution_count": null,
   "id": "6c59bb07",
   "metadata": {},
   "outputs": [],
   "source": [
    "def welcom():\n",
    "    print(\"well come to my code\")"
   ]
  }
 ],
 "metadata": {
  "kernelspec": {
   "display_name": "Python 3 (ipykernel)",
   "language": "python",
   "name": "python3"
  },
  "language_info": {
   "codemirror_mode": {
    "name": "ipython",
    "version": 3
   },
   "file_extension": ".py",
   "mimetype": "text/x-python",
   "name": "python",
   "nbconvert_exporter": "python",
   "pygments_lexer": "ipython3",
   "version": "3.11.7"
  }
 },
 "nbformat": 4,
 "nbformat_minor": 5
}
