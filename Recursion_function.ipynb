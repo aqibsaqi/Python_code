{
 "cells": [
  {
   "cell_type": "code",
   "execution_count": 1,
   "id": "94d61dd6",
   "metadata": {},
   "outputs": [
    {
     "name": "stdout",
     "output_type": "stream",
     "text": [
      "the total factorial number is : 120\n"
     ]
    }
   ],
   "source": [
    "'''\n",
    "Recursion\n",
    "its call inside itself it\n",
    "find factorial number\n",
    "'''\n",
    "def Calculate_fact(fac):\n",
    "    if fac==0:\n",
    "        return 1\n",
    "    else:\n",
    "        return fac*Calculate_fact(fac-1)\n",
    "\n",
    "factorial=Calculate_fact(5)\n",
    "print(\"the total factorial number is :\",factorial)\n",
    "    "
   ]
  },
  {
   "cell_type": "code",
   "execution_count": 1,
   "id": "b673f024",
   "metadata": {},
   "outputs": [
    {
     "name": "stdout",
     "output_type": "stream",
     "text": [
      "55\n"
     ]
    }
   ],
   "source": [
    "'''\n",
    "'Fibonacci number\n",
    "f0=0\n",
    "f1=1\n",
    "f2=f(n-1)+f(n-2)\n",
    "'''\n",
    "def calculate_Fibonacci(num):\n",
    "    if num==0:\n",
    "        return 0\n",
    "    elif num==1:\n",
    "        return 1\n",
    "    else:\n",
    "        return calculate_Fibonacci(num-1)+calculate_Fibonacci(num-2)\n",
    "Fibonacci=calculate_Fibonacci(10)\n",
    "print(Fibonacci)\n",
    "        \n",
    "    "
   ]
  },
  {
   "cell_type": "code",
   "execution_count": null,
   "id": "63e930c5",
   "metadata": {},
   "outputs": [],
   "source": []
  }
 ],
 "metadata": {
  "kernelspec": {
   "display_name": "Python 3 (ipykernel)",
   "language": "python",
   "name": "python3"
  },
  "language_info": {
   "codemirror_mode": {
    "name": "ipython",
    "version": 3
   },
   "file_extension": ".py",
   "mimetype": "text/x-python",
   "name": "python",
   "nbconvert_exporter": "python",
   "pygments_lexer": "ipython3",
   "version": "3.11.7"
  }
 },
 "nbformat": 4,
 "nbformat_minor": 5
}
