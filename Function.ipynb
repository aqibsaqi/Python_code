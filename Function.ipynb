{
 "cells": [
  {
   "cell_type": "markdown",
   "id": "057a6be7",
   "metadata": {},
   "source": [
    "# FUNCTION Concept:\n",
    ">reuseability\n",
    ">modularity\n",
    ">Syntax:\n",
    "def function_name():\n",
    "    code of statement\n",
    ">scope of varriable\n",
    ".local var: its use/access only inside of function \n",
    ".globale var:ite use/access both inside and outside of function\n",
    "> funtion :\n",
    "    .positioning value pass in the order form\n",
    "    .Defualt value def name(\"name\"=\"saqi\")\n",
    "    .parameter :placeholder for the value -def name (name)\n",
    "    .Argument  :value pass to the  parameter\n",
    "    .return function\n",
    "    .@decorator extra feature add in another function\n",
    "    .Generator function :generate one value at time yield use keyword \n",
    "    .\n",
    "\n"
   ]
  },
  {
   "cell_type": "code",
   "execution_count": 4,
   "id": "790b6ca8",
   "metadata": {},
   "outputs": [
    {
     "name": "stdout",
     "output_type": "stream",
     "text": [
      "46\n"
     ]
    }
   ],
   "source": [
    "#create Function\n",
    "def Add(a,b):\n",
    "    return a+b #--->return result where calls function\n",
    "result=Add(12,34)\n",
    "print(result)\n",
    "    "
   ]
  },
  {
   "cell_type": "code",
   "execution_count": 23,
   "id": "31fc3d68",
   "metadata": {},
   "outputs": [],
   "source": [
    "#positioning \n",
    "def Full_Name(first_name,Second_name=\"saqi\"):#--->parameter\n",
    "    return first_name+Second_name"
   ]
  },
  {
   "cell_type": "code",
   "execution_count": 24,
   "id": "33b311ff",
   "metadata": {},
   "outputs": [
    {
     "name": "stdout",
     "output_type": "stream",
     "text": [
      "AqibHussain\n"
     ]
    }
   ],
   "source": [
    "#following position order \n",
    "Full_name=Full_Name(\"Aqib\", \"Hussain\")#--->Argument\n",
    "print(Full_name)"
   ]
  },
  {
   "cell_type": "code",
   "execution_count": 25,
   "id": "89588b6a",
   "metadata": {},
   "outputs": [
    {
     "name": "stdout",
     "output_type": "stream",
     "text": [
      "HussainAqib\n"
     ]
    }
   ],
   "source": [
    "#not following position order\n",
    "Full_name=Full_Name(\"Hussain\", \"Aqib\")\n",
    "print(Full_name)"
   ]
  },
  {
   "cell_type": "code",
   "execution_count": 26,
   "id": "675482c1",
   "metadata": {},
   "outputs": [
    {
     "name": "stdout",
     "output_type": "stream",
     "text": [
      "Hussainsaqi\n"
     ]
    }
   ],
   "source": [
    "#donot pass second argument then get defualt value\n",
    "Full_name=Full_Name(\"Hussain\")\n",
    "print(Full_name)"
   ]
  },
  {
   "cell_type": "code",
   "execution_count": null,
   "id": "868820d3",
   "metadata": {},
   "outputs": [],
   "source": []
  },
  {
   "cell_type": "code",
   "execution_count": null,
   "id": "63fb0171",
   "metadata": {},
   "outputs": [],
   "source": []
  }
 ],
 "metadata": {
  "kernelspec": {
   "display_name": "Python 3 (ipykernel)",
   "language": "python",
   "name": "python3"
  },
  "language_info": {
   "codemirror_mode": {
    "name": "ipython",
    "version": 3
   },
   "file_extension": ".py",
   "mimetype": "text/x-python",
   "name": "python",
   "nbconvert_exporter": "python",
   "pygments_lexer": "ipython3",
   "version": "3.11.7"
  }
 },
 "nbformat": 4,
 "nbformat_minor": 5
}
